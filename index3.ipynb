{
 "cells": [
  {
   "cell_type": "code",
   "execution_count": 17,
   "metadata": {},
   "outputs": [
    {
     "name": "stdout",
     "output_type": "stream",
     "text": [
      "dict[{False, True}]\n"
     ]
    }
   ],
   "source": [
    "idade = 15\n",
    "nome = \"Vinicius\"\n",
    "\n",
    "dicionario = dict[{\n",
    "    nome == \"Vinicius\",\n",
    "    idade == \"16\"\n",
    "}]\n",
    "   \n",
    "print(dicionario)"
   ]
  }
 ],
 "metadata": {
  "kernelspec": {
   "display_name": "Python 3",
   "language": "python",
   "name": "python3"
  },
  "language_info": {
   "codemirror_mode": {
    "name": "ipython",
    "version": 3
   },
   "file_extension": ".py",
   "mimetype": "text/x-python",
   "name": "python",
   "nbconvert_exporter": "python",
   "pygments_lexer": "ipython3",
   "version": "3.10.6"
  }
 },
 "nbformat": 4,
 "nbformat_minor": 2
}
